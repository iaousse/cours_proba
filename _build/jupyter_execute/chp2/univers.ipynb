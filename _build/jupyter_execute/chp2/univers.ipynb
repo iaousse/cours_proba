{
 "cells": [
  {
   "cell_type": "markdown",
   "metadata": {},
   "source": [
    "# Univers\n",
    "\n",
    "L'univers (souvent noté \\( \\Omega \\)) est l'ensemble de tous les résultats possibles d'une expérience aléatoire.\n",
    "\n",
    "## Exemple\n",
    "Pour l'expérience aléatoire de lancer un dé, l'univers est:\n",
    "\\[ \\Omega = \\{1, 2, 3, 4, 5, 6\\} \\]\n"
   ]
  }
 ],
 "metadata": {
  "kernelspec": {
   "display_name": "Python 3 (ipykernel)",
   "language": "python",
   "name": "python3"
  },
  "language_info": {
   "codemirror_mode": {
    "name": "ipython",
    "version": 3
   },
   "file_extension": ".py",
   "mimetype": "text/x-python",
   "name": "python",
   "nbconvert_exporter": "python",
   "pygments_lexer": "ipython3",
   "version": "3.7.3"
  },
  "widgets": {
   "application/vnd.jupyter.widget-state+json": {
    "state": {},
    "version_major": 2,
    "version_minor": 0
   }
  }
 },
 "nbformat": 4,
 "nbformat_minor": 4
}