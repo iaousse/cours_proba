{
 "cells": [
  {
   "cell_type": "markdown",
   "metadata": {},
   "source": [
    "# Événements\n",
    "\n",
    "Un événement est un sous-ensemble de l'univers. Il représente un groupe de résultats possibles que nous pourrions trouver intéressants.\n",
    "\n",
    "## Exemple\n",
    "Considérons à nouveau l'expérience aléatoire de lancer un dé. L'événement \\( A \\) que le résultat est un nombre pair peut être représenté comme:\n",
    "\\[ A = \\{2, 4, 6\\} \\]\n"
   ]
  }
 ],
 "metadata": {
  "kernelspec": {
   "display_name": "Python 3 (ipykernel)",
   "language": "python",
   "name": "python3"
  },
  "language_info": {
   "codemirror_mode": {
    "name": "ipython",
    "version": 3
   },
   "file_extension": ".py",
   "mimetype": "text/x-python",
   "name": "python",
   "nbconvert_exporter": "python",
   "pygments_lexer": "ipython3",
   "version": "3.7.3"
  },
  "widgets": {
   "application/vnd.jupyter.widget-state+json": {
    "state": {},
    "version_major": 2,
    "version_minor": 0
   }
  }
 },
 "nbformat": 4,
 "nbformat_minor": 4
}