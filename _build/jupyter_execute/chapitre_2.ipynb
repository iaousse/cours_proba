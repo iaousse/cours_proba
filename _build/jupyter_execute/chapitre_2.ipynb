{
 "cells": [
  {
   "cell_type": "markdown",
   "metadata": {},
   "source": [
    "# Concepts de Base 2\n",
    "\n",
    "Dans ce chapitre, nous introduirons les concepts fondamentaux qui sous-tendent la théorie des probabilités. Ces concepts incluent les expériences aléatoires, l'univers, les événements et les axiomes de la probabilité. Chacun de ces éléments est essentiel pour comprendre comment nous modélisons et interprétons les phénomènes aléatoires.\n"
   ]
  }
 ],
 "metadata": {
  "kernelspec": {
   "display_name": "Python 3 (ipykernel)",
   "language": "python",
   "name": "python3"
  },
  "language_info": {
   "codemirror_mode": {
    "name": "ipython",
    "version": 3
   },
   "file_extension": ".py",
   "mimetype": "text/x-python",
   "name": "python",
   "nbconvert_exporter": "python",
   "pygments_lexer": "ipython3",
   "version": "3.7.3"
  },
  "widgets": {
   "application/vnd.jupyter.widget-state+json": {
    "state": {},
    "version_major": 2,
    "version_minor": 0
   }
  }
 },
 "nbformat": 4,
 "nbformat_minor": 4
}