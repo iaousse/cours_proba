{
 "cells": [
  {
   "cell_type": "markdown",
   "metadata": {},
   "source": [
    "Expériences Aléatoires\n",
    "====\n",
    "\n",
    "# Expériences Aléatoires\n",
    "\n",
    "Une expérience ou une action est dite aléatoire si elle peut produire plus d'un résultat possible et si nous ne pouvons pas prédire avec certitude quel résultat particulier se produira.\n",
    "\n",
    "## Exemple\n",
    "Lancer un dé équilibré est une expérience aléatoire car le résultat peut être l'un des six nombres de 1 à 6, et nous ne pouvons pas prédire quel nombre apparaîtra à un lancer particulier.\n"
   ]
  }
 ],
 "metadata": {
  "kernelspec": {
   "display_name": "Python 3 (ipykernel)",
   "language": "python",
   "name": "python3"
  },
  "language_info": {
   "codemirror_mode": {
    "name": "ipython",
    "version": 3
   },
   "file_extension": ".py",
   "mimetype": "text/x-python",
   "name": "python",
   "nbconvert_exporter": "python",
   "pygments_lexer": "ipython3",
   "version": "3.7.3"
  },
  "widgets": {
   "application/vnd.jupyter.widget-state+json": {
    "state": {},
    "version_major": 2,
    "version_minor": 0
   }
  }
 },
 "nbformat": 4,
 "nbformat_minor": 4
}