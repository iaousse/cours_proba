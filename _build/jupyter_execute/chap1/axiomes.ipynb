{
 "cells": [
  {
   "cell_type": "markdown",
   "metadata": {},
   "source": [
    "# Axiomes de Probabilité\n",
    "\n",
    "Pour définir formellement la probabilité, nous nous appuyons sur trois axiomes principaux:\n",
    "\n",
    "1. **Axiome 1**: La probabilité d'un événement est toujours un nombre positif ou nul, et ne peut jamais être négative.\n",
    "\\[ P(A) \\geq 0 \\] \n",
    "\n",
    "2. **Axiome 2**: La probabilité de l'univers (l'ensemble de tous les résultats possibles) est 1.\n",
    "\\[ P(\\Omega) = 1 \\]\n",
    "\n",
    "3. **Axiome 3**: Pour tout ensemble d'événements mutuellement exclusifs (événements qui ne peuvent pas se produire en même temps), la probabilité de l'union de ces événements est égale à la somme de leurs probabilités individuelles.\n",
    "\\[ P(A_1 \\cup A_2 \\cup \\dots) = P(A_1) + P(A_2) + \\dots \\]\n",
    "\n",
    "Ces axiomes forment la base de la théorie des probabilités moderne.\n"
   ]
  }
 ],
 "metadata": {
  "kernelspec": {
   "display_name": "Python 3 (ipykernel)",
   "language": "python",
   "name": "python3"
  },
  "language_info": {
   "codemirror_mode": {
    "name": "ipython",
    "version": 3
   },
   "file_extension": ".py",
   "mimetype": "text/x-python",
   "name": "python",
   "nbconvert_exporter": "python",
   "pygments_lexer": "ipython3",
   "version": "3.7.3"
  },
  "widgets": {
   "application/vnd.jupyter.widget-state+json": {
    "state": {},
    "version_major": 2,
    "version_minor": 0
   }
  }
 },
 "nbformat": 4,
 "nbformat_minor": 4
}