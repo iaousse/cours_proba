{
 "cells": [
  {
   "cell_type": "markdown",
   "metadata": {},
   "source": [
    "### Exemple Réel avec des Données Réelles\n",
    "\n",
    "Prenons l'exemple d'une clinique vétérinaire qui diagnostique deux types de maladies chez les chiens: la maladie $M_1$ et la maladie $M_2$. Les chiens arrivant à la clinique ont une probabilité de $0.8$ d'avoir $M_1$ et de $0.2$ pour $M_2$. La clinique a deux tests de diagnostic, $T_1$ et $T_2$. $T_1$ est utilisé $70\\%$ du temps et a une sensibilité (probabilité de détecter la maladie si le chien est effectivement malade) de $95\\%$ pour $M_1$ et de $85\\%$ pour $M_2$. $T_2$ est utilisé les autres $30\\%$ du temps, avec une sensibilité de $90\\%$ pour $M_1$ et de $80\\%$ pour $M_2$.\n",
    "\n",
    "La probabilité totale qu'un test diagnostique choisi au hasard détecte correctement la maladie chez un chien malade est:\n",
    "\n",
    "$$\n",
    "P(\\text{Test positif}) = P(T_1) \\cdot [P(\\text{positif}|T_1, M_1) \\cdot P(M_1) + P(\\text{positif}|T_1, M_2) \\cdot P(M_2)] \\\\\n",
    "+ P(T_2) \\cdot [P(\\text{positif}|T_2, M_1) \\cdot P(M_1) + P(\\text{positif}|T_2, M_2) \\cdot P(M_2)]\n",
    "$$\n",
    "\n",
    "Calculons cette probabilité:\n",
    "\n",
    "$$\n",
    "P(\\text{Test positif}) = 0.7 \\cdot (0.95 \\cdot 0.8 + 0.85 \\cdot 0.2) + 0.3 \\cdot (0.9 \\cdot 0.8 + 0.8 \\cdot 0.2)\n",
    "$$\n",
    "\n",
    "$$\n",
    "P(\\text{Test positif}) = 0.7 \\cdot (0.76 + 0.17) + 0.3 \\cdot (0.72 + 0.16)\n",
    "$$\n",
    "\n",
    "$$\n",
    "P(\\text{Test positif}) = 0.7 \\cdot 0.93 + 0.3 \\cdot 0.88\n",
    "$$\n",
    "\n",
    "$$\n",
    "P(\\text{Test positif}) = 0.651 + 0.264\n",
    "$$\n",
    "\n",
    "$$\n",
    "P(\\text{Test positif}) = 0.915\n",
    "$$\n",
    "\n",
    "Ainsi, la probabilité qu'un test diagnostique choisi au hasard détecte correctement la maladie est de $91.5\\%$.\n",
    "\n"
   ]
  },
  {
   "cell_type": "markdown",
   "metadata": {},
   "source": []
  }
 ],
 "metadata": {
  "kernelspec": {
   "display_name": "Python 3 (ipykernel)",
   "language": "python",
   "name": "python3"
  },
  "language_info": {
   "codemirror_mode": {
    "name": "ipython",
    "version": 3
   },
   "file_extension": ".py",
   "mimetype": "text/x-python",
   "name": "python",
   "nbconvert_exporter": "python",
   "pygments_lexer": "ipython3",
   "version": "3.7.3"
  },
  "widgets": {
   "application/vnd.jupyter.widget-state+json": {
    "state": {},
    "version_major": 2,
    "version_minor": 0
   }
  }
 },
 "nbformat": 4,
 "nbformat_minor": 4
}
