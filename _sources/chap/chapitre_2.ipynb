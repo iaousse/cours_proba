{
 "cells": [
  {
   "cell_type": "markdown",
   "metadata": {},
   "source": [
    "### Propriétés des Ensembles Particuliers\n",
    "\n",
    "1. **Propriété de la monotonie**:\n",
    "   Si $A \\subset B$, alors $P(A) \\leq P(B)$.\n",
    "\n",
    "2. **Propriété de sous-additivité**:\n",
    "   Pour toute suite d'événements $(A_n)_{n=1}^{\\infty}$,\n",
    "   \n",
    "   $$\n",
    "   P\\left(\\bigcup_{n=1}^{\\infty} A_n\\right) \\leq \\sum_{n=1}^{\\infty} P(A_n).\n",
    "   $$\n",
    "\n",
    "3. **Propriété de continuité vers le haut**:\n",
    "   Si $A_1 \\subset A_2 \\subset A_3 \\subset \\ldots $, alors\n",
    "   \n",
    "   $$\n",
    "   P\\left(\\bigcup_{n=1}^{\\infty} A_n\\right) = \\lim_{n \\to \\infty} P(A_n).\n",
    "   $$\n",
    "\n",
    "4. **Propriété de continuité vers le bas**:\n",
    "   Si $A_1 \\supset A_2 \\supset A_3 \\supset \\ldots $ et il existe un $n$ tel que $P(A_n) < \\infty$, alors\n",
    "   \n",
    "   $$\n",
    "   P\\left(\\bigcap_{n=1}^{\\infty} A_n\\right) = \\lim_{n \\to \\infty} P(A_n).\n",
    "   $$\n",
    "\n",
    "\n",
    "   \n",
    "   Et pour trois événements $A, B, C$ :\n",
    "   \n",
    "   $$\n",
    "   P(A \\cup B \\cup C) = P(A) + P(B) + P(C) - P(A \\cap B) - P(A \\cap C) - P(B \\cap C) + P(A \\cap B \\cap C).\n",
    "   $$\n"
   ]
  },
  {
   "cell_type": "markdown",
   "metadata": {},
   "source": [
    "### Exemple 3: Choix au hasard d'un étudiant dans la classe\n",
    "\n",
    "- **Expérience aléatoire**: Choisir un étudiant au hasard dans une classe.\n",
    "- **$\\Omega$**: Ensemble de tous les étudiants de la classe.\n",
    "- **$\\mathcal{F}$**: L'ensemble des sous-ensembles de $\\Omega$, où chaque étudiant individuel et chaque groupe d'étudiants sont considérés comme des événements.\n",
    "- **$P$**: Probabilité uniforme, si l'on suppose que chaque étudiant a la même chance d'être choisi, donc $P(\\{\\text{un étudiant spécifique}\\}) = \\frac{1}{30}$.\n",
    "\n",
    "- **Situation A**\n",
    "  - **Événement A**: L'étudiant choisi est une fille.\n",
    "  - **Événement B**: L'étudiant choisi porte des lunettes.\n",
    "\n",
    "- **Situation B**\n",
    "  - **Événement A**: L'étudiant choisi est un garçon.\n",
    "  - **Événement B**: L'étudiant choisi porte des lunettes."
   ]
  }
 ],
 "metadata": {
  "kernelspec": {
   "display_name": "Python 3 (ipykernel)",
   "language": "python",
   "name": "python3"
  },
  "language_info": {
   "codemirror_mode": {
    "name": "ipython",
    "version": 3
   },
   "file_extension": ".py",
   "mimetype": "text/x-python",
   "name": "python",
   "nbconvert_exporter": "python",
   "pygments_lexer": "ipython3",
   "version": "3.7.3"
  },
  "widgets": {
   "application/vnd.jupyter.widget-state+json": {
    "state": {},
    "version_major": 2,
    "version_minor": 0
   }
  }
 },
 "nbformat": 4,
 "nbformat_minor": 4
}
